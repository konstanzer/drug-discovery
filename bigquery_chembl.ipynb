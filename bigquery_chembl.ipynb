{
  "nbformat": 4,
  "nbformat_minor": 0,
  "metadata": {
    "colab": {
      "name": "bigquery-chembl.ipynb",
      "provenance": [],
      "collapsed_sections": []
    },
    "kernelspec": {
      "name": "python3",
      "display_name": "Python 3"
    },
    "language_info": {
      "name": "python"
    }
  },
  "cells": [
    {
      "cell_type": "markdown",
      "metadata": {
        "id": "gQOHLVj7ztBf"
      },
      "source": [
        "#Exploring the BigQuery API with ChEMBL\n",
        "\n",
        "First, you'll need a Google Cloud API key. Download the JSON file to use the client.\n",
        "\n",
        "[A guide is provided here](https://cloud.google.com/docs/authentication/getting-started)"
      ]
    },
    {
      "cell_type": "code",
      "metadata": {
        "id": "7n2KZrUFloxu"
      },
      "source": [
        "from google.cloud import bigquery\n",
        "import os\n",
        "\n",
        "api_path = '/content/drive/MyDrive/Colab Notebooks/chembl-api.json' #wherever you saved the key\n",
        "os.environ[\"GOOGLE_APPLICATION_CREDENTIALS\"] = api_path"
      ],
      "execution_count": null,
      "outputs": []
    },
    {
      "cell_type": "code",
      "metadata": {
        "id": "3lD4NMs-lr_z"
      },
      "source": [
        "client = bigquery.Client()"
      ],
      "execution_count": null,
      "outputs": []
    },
    {
      "cell_type": "markdown",
      "metadata": {
        "id": "wEPUbVQ063kI"
      },
      "source": [
        "A dataset reference points BiqQuery to the correct dataset and project.\n",
        "\n",
        "[View the database on Google Cloud](https://console.cloud.google.com/bigquery?project=patents-public-data&d=ebi_chembl&p=patents-public-data&page=dataset&pli=1)"
      ]
    },
    {
      "cell_type": "code",
      "metadata": {
        "id": "jC4uGNgDlump"
      },
      "source": [
        "dset_ref = client.dataset('ebi_chembl', project='patents-public-data')\n",
        "chembl_dset = client.get_dataset(dset_ref)"
      ],
      "execution_count": null,
      "outputs": []
    },
    {
      "cell_type": "code",
      "metadata": {
        "id": "pwzRPQvAnf4-"
      },
      "source": [
        "tables = [x.table_id for x in client.list_tables(chembl_dset)]\n",
        "print(len(tables), 'tables')\n",
        "tables"
      ],
      "execution_count": null,
      "outputs": []
    },
    {
      "cell_type": "code",
      "metadata": {
        "colab": {
          "base_uri": "https://localhost:8080/"
        },
        "id": "dTM7KwynnxuD",
        "outputId": "f998314f-b6ff-4bcd-b084-ba18492dc1e2"
      },
      "source": [
        "#29 indicates ChEMBL 29, the latest version\n",
        "products = client.get_table(chembl_dset.table('products_29'))\n",
        "products.schema"
      ],
      "execution_count": null,
      "outputs": [
        {
          "output_type": "execute_result",
          "data": {
            "text/plain": [
              "[SchemaField('dosage_form', 'STRING', 'NULLABLE', None, ()),\n",
              " SchemaField('route', 'STRING', 'NULLABLE', None, ()),\n",
              " SchemaField('trade_name', 'STRING', 'NULLABLE', None, ()),\n",
              " SchemaField('approval_date', 'STRING', 'NULLABLE', None, ()),\n",
              " SchemaField('ad_type', 'STRING', 'NULLABLE', None, ()),\n",
              " SchemaField('oral', 'STRING', 'NULLABLE', None, ()),\n",
              " SchemaField('topical', 'STRING', 'NULLABLE', None, ()),\n",
              " SchemaField('parenteral', 'STRING', 'NULLABLE', None, ()),\n",
              " SchemaField('black_box_warning', 'STRING', 'NULLABLE', None, ()),\n",
              " SchemaField('applicant_full_name', 'STRING', 'NULLABLE', None, ()),\n",
              " SchemaField('innovator_company', 'STRING', 'NULLABLE', None, ()),\n",
              " SchemaField('product_id', 'STRING', 'NULLABLE', None, ()),\n",
              " SchemaField('nda_type', 'STRING', 'NULLABLE', None, ())]"
            ]
          },
          "metadata": {},
          "execution_count": 9
        }
      ]
    },
    {
      "cell_type": "markdown",
      "metadata": {
        "id": "zOnI82fKy4Xh"
      },
      "source": [
        "The schema is a necessary input for one of the more useful commands in BQ: [list_rows](https://googlecloudplatform.github.io/google-cloud-python/latest/bigquery/reference.html#google.cloud.bigquery.client.Client.list_rows). `List_rows` returns a slice of a dataset without scanning any other section of the table. If you've ever written a BQ query that included a `limit` clause, you probably actually wanted `list_rows` instead.\n",
        "\n",
        "I'd like to see a subset of the columns, but the `selected_fields` parameter requires a schema object as an input. We'll need to build a subset of the schema first to pass for that parameter."
      ]
    },
    {
      "cell_type": "code",
      "metadata": {
        "id": "ZCX7f7ZGy323"
      },
      "source": [
        "schema_subset = [col for col in products.schema if col.name in ('product_id',\n",
        "                                                                'trade_name',\n",
        "                                                                'applicant_full_name')]\n",
        "                                                                \n",
        "results = [x for x in client.list_rows(products, start_index=5000, selected_fields=schema_subset, max_results=10)]"
      ],
      "execution_count": null,
      "outputs": []
    },
    {
      "cell_type": "code",
      "metadata": {
        "colab": {
          "base_uri": "https://localhost:8080/"
        },
        "id": "9awU2txuz-Zu",
        "outputId": "a703eee4-0007-466a-f9d3-26b08977ae9a"
      },
      "source": [
        "for i in results:\n",
        "  print(dict(i)) #print as dicts for easier viewing"
      ],
      "execution_count": null,
      "outputs": [
        {
          "output_type": "stream",
          "name": "stdout",
          "text": [
            "{'trade_name': 'FEXOFENADINE HYDROCHLORIDE ALLERGY', 'applicant_full_name': 'DR REDDYS LABORATORIES LTD', 'product_id': 'PRODUCT_076502_006'}\n",
            "{'trade_name': 'FEXOFENADINE HYDROCHLORIDE HIVES', 'applicant_full_name': 'DR REDDYS LABORATORIES LTD', 'product_id': 'PRODUCT_076502_007'}\n",
            "{'trade_name': 'FEXOFENADINE HYDROCHLORIDE ALLERGY', 'applicant_full_name': 'DR REDDYS LABORATORIES LTD', 'product_id': 'PRODUCT_076502_008'}\n",
            "{'trade_name': 'FEXOFENADINE HYDROCHLORIDE HIVES', 'applicant_full_name': 'DR REDDYS LABORATORIES LTD', 'product_id': 'PRODUCT_076502_009'}\n",
            "{'trade_name': 'METRONIDAZOLE', 'applicant_full_name': 'ABLE LABORATORIES INC', 'product_id': 'PRODUCT_076519_001'}\n",
            "{'trade_name': 'METRONIDAZOLE', 'applicant_full_name': 'ABLE LABORATORIES INC', 'product_id': 'PRODUCT_076519_002'}\n",
            "{'trade_name': 'TIZANIDINE HYDROCHLORIDE', 'applicant_full_name': 'APOTEX INC', 'product_id': 'PRODUCT_076533_001'}\n",
            "{'trade_name': 'TIZANIDINE HYDROCHLORIDE', 'applicant_full_name': 'APOTEX INC', 'product_id': 'PRODUCT_076533_002'}\n",
            "{'trade_name': 'SERTRALINE HYDROCHLORIDE', 'applicant_full_name': 'MYLAN PHARMACEUTICALS INC', 'product_id': 'PRODUCT_076540_001'}\n",
            "{'trade_name': 'SERTRALINE HYDROCHLORIDE', 'applicant_full_name': 'MYLAN PHARMACEUTICALS INC', 'product_id': 'PRODUCT_076540_002'}\n"
          ]
        }
      ]
    },
    {
      "cell_type": "markdown",
      "metadata": {
        "id": "C1Blq0dn1_Ak"
      },
      "source": [
        "Suppose we wanted to check what resources we would have consumed by doing a full table scan instead of using list_rows. Looks like the num_bytes method should help us there. (Knowing your query size may be important due to the 5TB monthly quota.)"
      ]
    },
    {
      "cell_type": "code",
      "metadata": {
        "id": "szj_tKUOrTvH"
      },
      "source": [
        "def estimate_gigabytes_scanned(query, bq_client):\n",
        "    # see https://cloud.google.com/bigquery/docs/reference/rest/v2/jobs#configuration.dryRun\n",
        "    my_job_config = bigquery.job.QueryJobConfig()\n",
        "    my_job_config.dry_run = True\n",
        "    my_job = bq_client.query(query, job_config=my_job_config)\n",
        "    BYTES_PER_GB = 2**30\n",
        "    return my_job.total_bytes_processed / BYTES_PER_GB"
      ],
      "execution_count": null,
      "outputs": []
    },
    {
      "cell_type": "code",
      "metadata": {
        "colab": {
          "base_uri": "https://localhost:8080/"
        },
        "id": "EdTvOlld1xI0",
        "outputId": "db33e3ef-3a4a-44e4-9301-2ca40859c34a"
      },
      "source": [
        "estimate_gigabytes_scanned(\"SELECT trade_name FROM `patents-public-data.ebi_chembl.products_29`\", client)"
      ],
      "execution_count": null,
      "outputs": [
        {
          "output_type": "execute_result",
          "data": {
            "text/plain": [
              "0.0007636584341526031"
            ]
          },
          "metadata": {},
          "execution_count": 15
        }
      ]
    },
    {
      "cell_type": "code",
      "metadata": {
        "colab": {
          "base_uri": "https://localhost:8080/"
        },
        "id": "F_xnv-mx2Y7z",
        "outputId": "7af87f17-f7a4-44e5-e4c7-41a3988b696a"
      },
      "source": [
        "estimate_gigabytes_scanned(\"SELECT * FROM `patents-public-data.ebi_chembl.products_29`\", client)"
      ],
      "execution_count": null,
      "outputs": [
        {
          "output_type": "execute_result",
          "data": {
            "text/plain": [
              "0.005070987157523632"
            ]
          },
          "metadata": {},
          "execution_count": 16
        }
      ]
    },
    {
      "cell_type": "markdown",
      "metadata": {
        "id": "a_VNJjyy6K-4"
      },
      "source": [
        "##Running queries\n",
        "\n",
        "[View tutorial in BigQuery API Docs](https://googleapis.dev/python/bigquery/latest/usage/queries.html)"
      ]
    },
    {
      "cell_type": "code",
      "metadata": {
        "id": "4S_w9thf5N5h"
      },
      "source": [
        "query = \"\"\"\n",
        "    SELECT trade_name, applicant_full_name\n",
        "    FROM `patents-public-data.ebi_chembl.products_29`\n",
        "    LIMIT 20\n",
        "\"\"\"\n",
        "query_job = client.query(query)  # Make an API request."
      ],
      "execution_count": null,
      "outputs": []
    },
    {
      "cell_type": "code",
      "metadata": {
        "id": "9vIroHw5pzaR",
        "colab": {
          "base_uri": "https://localhost:8080/"
        },
        "outputId": "5703691a-ba05-4063-c07d-969c06372576"
      },
      "source": [
        "print(\"The query data:\")\n",
        "for row in query_job:\n",
        "    # Row values can be accessed by field name or index.\n",
        "    print(\"   trade name: {}, applicant: {}\".format(row[0], row[1]))"
      ],
      "execution_count": null,
      "outputs": [
        {
          "output_type": "stream",
          "name": "stdout",
          "text": [
            "The query data:\n",
            "   trade name: XENON XE 133, applicant: GE HEALTHCARE\n",
            "   trade name: XENON XE 133, applicant: LANTHEUS MEDICAL IMAGING INC\n",
            "   trade name: XENON XE 133, applicant: LANTHEUS MEDICAL IMAGING INC\n",
            "   trade name: XENON XE 133, applicant: GENERAL ELECTRIC CO\n",
            "   trade name: XENON XE 133, applicant: GENERAL ELECTRIC CO\n",
            "   trade name: XENON XE 133-V.S.S., applicant: GE HEALTHCARE\n",
            "   trade name: XENON XE 133, applicant: GE HEALTHCARE\n",
            "   trade name: XENON XE 133, applicant: GE HEALTHCARE\n",
            "   trade name: MPI KRYPTON 81M GENERATOR, applicant: GE HEALTHCARE\n",
            "   trade name: XENON XE 133, applicant: CURIUM US LLC\n",
            "   trade name: XENON XE 133, applicant: CURIUM US LLC\n",
            "   trade name: XENON XE 127, applicant: MALLINCKRODT MEDICAL INC\n",
            "   trade name: XENON XE 127, applicant: MALLINCKRODT MEDICAL INC\n",
            "   trade name: GENOSYL, applicant: VERO BIOTECH\n",
            "   trade name: NOXIVENT, applicant: PRAXAIR DISTRIBUTION INC\n",
            "   trade name: NOXIVENT, applicant: PRAXAIR DISTRIBUTION INC\n",
            "   trade name: DECADERM, applicant: MERCK AND CO INC\n",
            "   trade name: UTICORT, applicant: PARKE DAVIS DIV WARNER LAMBERT CO\n",
            "   trade name: FLUOCINONIDE, applicant: COUNTY LINE PHARMACEUTICALS LLC\n",
            "   trade name: TOPICORT, applicant: TARO PHARMACEUTICAL INDUSTRIES LTD\n"
          ]
        }
      ]
    },
    {
      "cell_type": "code",
      "metadata": {
        "id": "tk167TBz5gr_"
      },
      "source": [
        ""
      ],
      "execution_count": null,
      "outputs": []
    }
  ]
}